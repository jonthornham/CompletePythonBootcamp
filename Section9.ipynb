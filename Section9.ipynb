{
 "cells": [
  {
   "cell_type": "code",
   "execution_count": 4,
   "metadata": {},
   "outputs": [
    {
     "name": "stdout",
     "output_type": "stream",
     "text": [
      "Initializing mypackage...\n"
     ]
    }
   ],
   "source": [
    "# __iniy__.py\n",
    "\n",
    "# If you have a folder structure and place an __init__.py file inside the folder you mark the folder as a Python Package. \n",
    "\n",
    "# Here are a few important points about the `__init__.py` file:\n",
    "\n",
    "# 1. **Package Initialization:** When Python encounters an `__init__.py` file inside a directory, it treats the directory as a package. This \n",
    "# allows you to organize your code into multiple modules within a package, making it more manageable and modular.\n",
    "\n",
    "# 2. **Symbol Export:** You can use the `__init__.py` file to specify which symbols (functions, classes, variables) from the package should be \n",
    "# accessible when the package is imported. You can do this by explicitly importing the symbols in the `__init__.py` file.\n",
    "\n",
    "#    For example, consider a package structure like this:\n",
    "\n",
    "#    mypackage/\n",
    "#    ├── __init__.py\n",
    "#    ├── module1.py\n",
    "#    └── module2.py\n",
    "\n",
    "#    In `__init__.py`, you can import specific symbols from `module1` and `module2` to make them accessible when the package is imported:\n",
    "\n",
    "# from .module1 import function1\n",
    "# from .module2 import MyClass\n",
    "\n",
    "#    Now, when someone imports `mypackage`, they can directly use `function1` and `MyClass` without having to import them from `module1` and `module2`.\n",
    "\n",
    "# 3. **Package-Level Initialization:** You can also use the `__init__.py` file to perform package-level initialization tasks. For example, setting \n",
    "# package-wide configurations or variables, or importing modules that should be available as soon as the package is imported.\n",
    "\n",
    "   # Example __init__.py contents for package-level initialization\n",
    "print(\"Initializing mypackage...\")\n",
    "config_variable = 42\n",
    "\n",
    "# When you import a module from a package, Python looks for an `__init__.py` file in the package directory. If it finds one, it executes the code within \n",
    "# the `__init__.py` file before importing any other modules from the package.\n",
    "\n",
    "# Note: In Python 3.3 and above, the `__init__.py` file is not strictly required for a directory to be recognized as a package. However, it's still commonly \n",
    "# used for the purposes mentioned above and for backward compatibility with older Python versions."
   ]
  },
  {
   "cell_type": "code",
   "execution_count": null,
   "metadata": {},
   "outputs": [],
   "source": [
    "# __name__ and __main__\n",
    "\n",
    "# In Python, __name__ is a built-in variable that represents the name of the current module or script. When a Python file is run, Python sets the __name__ \n",
    "# variable for that file. If the file is being run directly, __name__ is set to '__main__'. If the file is being imported as a module into another script, \n",
    "# __name__ is set to the name of the module.\n",
    "\n",
    "# For example, consider the following Python script named example.py:\n",
    "\n",
    "def func():\n",
    "    print(\"Inside func() in example.py\")\n",
    "\n",
    "print(\"Name of the module:\", __name__)\n",
    "\n",
    "if __name__ == \"__main__\":\n",
    "    print(\"This script is being run directly.\")\n",
    "    func()\n",
    "else:\n",
    "    print(\"This script is being imported as a module.\")\n",
    "\n",
    "# When you run example.py directly using python example.py, the output will be:\n",
    "\n",
    "# Name of the module: __main__\n",
    "# This script is being run directly.\n",
    "# Inside func() in example.py\n",
    "\n",
    "# if __name__ == \"__main__\": is a common Python idiom. It allows you to write code that will only be executed when the script is run directly, not when it's \n",
    "# imported as a module into another script.\n",
    "\n",
    "# By using if __name__ == \"__main__\":, you can create reusable modules. The code inside this block will only run if the script is being run directly, \n",
    "# allowing the script to behave as both a standalone program and an importable module for other scripts.\n",
    "\n",
    "# This pattern is particularly useful when you have utility functions or classes in a script that you might want to reuse in other projects. These \n",
    "# utilities can be defined in the script, and the main logic of the script can be placed under if __name__ == \"__main__\":, ensuring it only runs when the script \n",
    "# is invoked directly."
   ]
  }
 ],
 "metadata": {
  "kernelspec": {
   "display_name": "Python 3",
   "language": "python",
   "name": "python3"
  },
  "language_info": {
   "codemirror_mode": {
    "name": "ipython",
    "version": 3
   },
   "file_extension": ".py",
   "mimetype": "text/x-python",
   "name": "python",
   "nbconvert_exporter": "python",
   "pygments_lexer": "ipython3",
   "version": "3.11.5"
  },
  "orig_nbformat": 4
 },
 "nbformat": 4,
 "nbformat_minor": 2
}
