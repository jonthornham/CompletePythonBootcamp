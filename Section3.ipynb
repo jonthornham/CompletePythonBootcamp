{
 "cells": [
  {
   "cell_type": "code",
   "execution_count": 6,
   "metadata": {},
   "outputs": [],
   "source": [
    "# These are the Python Data Types\n",
    "# int\n",
    "# float\n",
    "# str\n",
    "# list (like an array)\n",
    "# dict\n",
    "# tup\n",
    "# set\n",
    "# bool True and False. Caps are used. \n",
    "# None same as null\n",
    "\n",
    "# You can change data types after assignment. Not type safe. Dynamic typing. You do not use anything like let or const when defining a variable.\n",
    "\n",
    "myNum = 81\n",
    "myString = 'Single quotes are ok'\n",
    "myString2 = \"Double quotes are also ok, especially if you want to add a '\"\n",
    "\n",
    "# Strings are immutable. "
   ]
  },
  {
   "cell_type": "code",
   "execution_count": 5,
   "metadata": {},
   "outputs": [
    {
     "data": {
      "text/plain": [
       "'HELLO'"
      ]
     },
     "execution_count": 5,
     "metadata": {},
     "output_type": "execute_result"
    }
   ],
   "source": [
    "# Methods use the dot notation. \n",
    "myString = \"Hello\"\n",
    "myString.upper()"
   ]
  },
  {
   "cell_type": "code",
   "execution_count": 7,
   "metadata": {},
   "outputs": [
    {
     "name": "stdout",
     "output_type": "stream",
     "text": [
      "Hello, my name is Jon Thornham.\n"
     ]
    }
   ],
   "source": [
    "# Adding variables to strings. There are two methods. The old uses a .format. It's ugly. THe new is below. You add an f in front of the string.\n",
    "\n",
    "myName = \"Jon Thornham\"\n",
    "print(f'Hello, my name is {myName}.')"
   ]
  },
  {
   "cell_type": "code",
   "execution_count": null,
   "metadata": {},
   "outputs": [],
   "source": [
    "# Lists. You can mix data types.\n",
    "\n",
    "myList = [1, 2, 3, 4]\n",
    "myMixedList = [\"Hello\", 1]"
   ]
  },
  {
   "cell_type": "code",
   "execution_count": 11,
   "metadata": {},
   "outputs": [
    {
     "data": {
      "text/plain": [
       "1"
      ]
     },
     "execution_count": 11,
     "metadata": {},
     "output_type": "execute_result"
    }
   ],
   "source": [
    "# Dictionaries\n",
    "\n",
    "myDictionary = {\"num1\":1, \"num2\":2}\n",
    "myDictionary2 = {\"letter1\":\"a\", \"letter2\":\"b\"}\n",
    "myDictionary3 = {\"item1\":1, \"item2\":\"a\"}\n",
    "\n",
    "\n",
    "# To get the value.\n",
    "myDictionary['num1']"
   ]
  },
  {
   "cell_type": "code",
   "execution_count": 14,
   "metadata": {},
   "outputs": [
    {
     "data": {
      "text/plain": [
       "(1, 2, 3, 4)"
      ]
     },
     "execution_count": 14,
     "metadata": {},
     "output_type": "execute_result"
    }
   ],
   "source": [
    "# Tuples - Very similar to List but they are immutable. Used rarely unless you need to make sure the data isn't changed.\n",
    "\n",
    "myTuple = (1, 2, 3, 4)\n",
    "myTuple"
   ]
  },
  {
   "cell_type": "code",
   "execution_count": 18,
   "metadata": {},
   "outputs": [
    {
     "data": {
      "text/plain": [
       "{1, 2, 3, 4}"
      ]
     },
     "execution_count": 18,
     "metadata": {},
     "output_type": "execute_result"
    }
   ],
   "source": [
    "# Sets - Unordered colelctiosn of unique elements. Can't have the same item twice. Very helpful to strip data from a list. \n",
    "\n",
    "mySet = set()\n",
    "mySet.add(1)\n",
    "mySet\n",
    "mySet.add(2)\n",
    "mySet\n",
    "\n",
    "myListDuplicates = [1, 1, 1, 1, 1, 2, 2, 2, 2, 2, 3, 3, 3, 4, 4, 4]\n",
    "mySetDuplicates = set(myListDuplicates)\n",
    "mySetDuplicates"
   ]
  },
  {
   "cell_type": "code",
   "execution_count": null,
   "metadata": {},
   "outputs": [],
   "source": [
    "# Files - Watch Video 28 Section 3\n",
    "\n",
    "# As for the with statement, here's a brief explanation with an example unrelated to asynchronous programming:\n",
    "\n",
    "# Example of using with statement to handle file operations\n",
    "with open('example.txt', 'r') as file:\n",
    "    content = file.read()\n",
    "    # Do something with the file content\n",
    "\n",
    "# At this point, the file is automatically closed, even if an exception occurs\n",
    "\n",
    "# In this example, the with statement is used to open a file (example.txt) for reading ('r'). It ensures that \n",
    "# the file is properly closed after reading its content, even if an exception occurs inside the block. The as \n",
    "# keyword is used to assign the file object to the variable file, allowing you to work with the file inside \n",
    "# the with block."
   ]
  }
 ],
 "metadata": {
  "kernelspec": {
   "display_name": "Python 3",
   "language": "python",
   "name": "python3"
  },
  "language_info": {
   "codemirror_mode": {
    "name": "ipython",
    "version": 3
   },
   "file_extension": ".py",
   "mimetype": "text/x-python",
   "name": "python",
   "nbconvert_exporter": "python",
   "pygments_lexer": "ipython3",
   "version": "3.11.5"
  },
  "orig_nbformat": 4
 },
 "nbformat": 4,
 "nbformat_minor": 2
}
