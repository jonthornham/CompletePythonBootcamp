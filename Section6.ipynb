{
 "cells": [
  {
   "cell_type": "code",
   "execution_count": 4,
   "metadata": {},
   "outputs": [
    {
     "name": "stdout",
     "output_type": "stream",
     "text": [
      "9\n",
      "39\n"
     ]
    }
   ],
   "source": [
    "# Functions\n",
    "\n",
    "def myFunc():\n",
    "    print('Hello')\n",
    "\n",
    "def myFunc2(name):\n",
    "    print(f'Hello {name}')\n",
    "\n",
    "def myFunc3(name='Default'):\n",
    "        print(f'Hello {name}')\n",
    "\n",
    "def myFunc4(a, b):\n",
    "     return a + b\n",
    "\n",
    "# The arguments defined in the functions are the names if you want to specifically use them in the function call. You don't have to though.\n",
    "result = myFunc4(8, 1)\n",
    "result2 = myFunc4(a=11, b=28)\n",
    "\n",
    "print(result)\n",
    "print(result2)     "
   ]
  },
  {
   "cell_type": "code",
   "execution_count": 5,
   "metadata": {},
   "outputs": [
    {
     "data": {
      "text/plain": [
       "True"
      ]
     },
     "execution_count": 5,
     "metadata": {},
     "output_type": "execute_result"
    }
   ],
   "source": [
    "# Here is a function with for and ifs.\n",
    "\n",
    "numList = [1, 3, 5, 7, 8, 4, 3, 10]\n",
    "\n",
    "# This looks to see if the list contains an even number. Pass means move on but don't exit the loop. You only return false if the whole list doesn't have a number. \n",
    "# The indentation here is key.\n",
    "def checkEvenList(numList):\n",
    "    for number in numList:\n",
    "        if number % 2 == 0:\n",
    "            return True\n",
    "        else: \n",
    "            pass\n",
    "\n",
    "    return False\n",
    "\n",
    "checkEvenList(numList)"
   ]
  },
  {
   "cell_type": "code",
   "execution_count": null,
   "metadata": {},
   "outputs": [],
   "source": [
    "# *args and *kwargs\n",
    "\n",
    "# In Python, *args and **kwargs allow you to pass a variable number of arguments to a function. They are often used when you want to create \n",
    "# functions that can accept any number of arguments without having to specify them explicitly in the function definition.\n",
    "\n",
    "# *args is used to pass a variable number of non-keyword arguments to a function. It allows you to pass any number of positional arguments to \n",
    "# the function. When you use *args in a function definition, it collects any extra positional arguments passed to the function into a tuple. \n",
    "# Here's an example:\n",
    "\n",
    "def my_function(*args):\n",
    "    for arg in args:\n",
    "        print(arg)\n",
    "\n",
    "my_function(1, 2, 3, 4)\n",
    "\n",
    "# In this example, *args allows the function my_function to accept any number of positional arguments, which are then printed inside the function.\n",
    "\n",
    "# **kwargs is used to pass a variable number of keyword arguments to a function. It allows you to pass any number of keyword arguments to the \n",
    "# function. When you use **kwargs in a function definition, it collects any extra keyword arguments passed to the function into a dictionary. \n",
    "# Here's an example:\n",
    "\n",
    "def print_details(**kwargs):\n",
    "    for key, value in kwargs.items():\n",
    "        print(key + \": \" + value)\n",
    "\n",
    "print_details(name=\"Alice\", age=\"30\", city=\"New York\")\n",
    "\n",
    "# In this example, **kwargs allows the function print_details to accept any number of keyword arguments, which are then printed as key-value pairs inside the function.\n",
    "\n",
    "# You can also use *args and **kwargs together in the same function definition if you want to accept both positional and keyword arguments:\n",
    "\n",
    "def example_function(*args, **kwargs):\n",
    "    # Access positional arguments\n",
    "    for arg in args:\n",
    "        print(\"Arg:\", arg)\n",
    "    \n",
    "    # Access keyword arguments\n",
    "    for key, value in kwargs.items():\n",
    "        print(key + \": \" + value)\n",
    "\n",
    "example_function(1, 2, 3, name=\"Alice\", age=\"30\")"
   ]
  },
  {
   "cell_type": "code",
   "execution_count": null,
   "metadata": {},
   "outputs": [],
   "source": [
    "# Map\n",
    "\n",
    "# Define a function that doubles a number\n",
    "def double(x):\n",
    "    return x * 2\n",
    "\n",
    "# Create a list of numbers\n",
    "numbers = [1, 2, 3, 4, 5]\n",
    "\n",
    "# Use map() to apply the double() function to each number in the list and covert to a list with list()\n",
    "doubled_numbers = list(map(double, numbers))\n",
    "\n",
    "# Convert the result to a list and print it\n",
    "print(doubled_numbers)\n",
    "# Output: [2, 4, 6, 8, 10]"
   ]
  },
  {
   "cell_type": "code",
   "execution_count": null,
   "metadata": {},
   "outputs": [],
   "source": [
    "# Filter\n",
    "\n",
    "# Define a function to check if a number is even\n",
    "def is_even(x):\n",
    "    return x % 2 == 0\n",
    "\n",
    "# Create a list of numbers\n",
    "numbers = [1, 2, 3, 4, 5, 6, 7, 8, 9]\n",
    "\n",
    "# Use filter() to filter out the even numbers using the is_even() function and convert to a list with list()\n",
    "even_numbers = list(filter(is_even, numbers))\n",
    "\n",
    "# Convert the result to a list and print it\n",
    "print(even_numbers)\n",
    "# Output: [2, 4, 6, 8]\n"
   ]
  },
  {
   "cell_type": "code",
   "execution_count": null,
   "metadata": {},
   "outputs": [],
   "source": [
    "# Lambda Expressions\n",
    "\n",
    "# Lambda expressions in Python are small, anonymous functions defined using the `lambda` keyword. They can have any number of input parameters but \n",
    "# can only have one expression. The result of the expression is automatically returned from the lambda function. Lambda functions are often used for \n",
    "# short, simple operations that can be defined in a single line.\n",
    "\n",
    "# Here's the basic syntax of a lambda function:\n",
    "\n",
    "lambda arguments: expression\n",
    "\n",
    "# Here's an example of a lambda function that adds two numbers:\n",
    "\n",
    "add = lambda x, y: x + y\n",
    "\n",
    "result = add(3, 5)\n",
    "print(result)  \n",
    "# Output: 8\n",
    "\n",
    "# In this example, `lambda x, y: x + y` defines a lambda function that takes two arguments `x` and `y`, adds them together, and returns the result. The \n",
    "# lambda function is assigned to the variable `add`, and then it's called with arguments `3` and `5`, resulting in `8`.\n",
    "\n",
    "# Lambda functions are often used in functions like `map()`, `filter()`, and `sorted()` where you need a simple function for a short period of time. Here \n",
    "# are a couple of examples:\n",
    "\n",
    "# Using lambda with `map()`:\n",
    "\n",
    "numbers = [1, 2, 3, 4, 5]\n",
    "squared_numbers = list(map(lambda x: x**2, numbers))\n",
    "print(squared_numbers)  # Output: [1, 4, 9, 16, 25]\n",
    "\n",
    "# Using lambda with `filter()`:\n",
    "\n",
    "numbers = [1, 2, 3, 4, 5, 6, 7, 8, 9]\n",
    "even_numbers = list(filter(lambda x: x % 2 == 0, numbers))\n",
    "print(even_numbers)  # Output: [2, 4, 6, 8]\n",
    "\n",
    "# In these examples, lambda functions are used for simple operations within `map()` and `filter()` to square numbers and filter out even numbers, respectively."
   ]
  }
 ],
 "metadata": {
  "kernelspec": {
   "display_name": "Python 3",
   "language": "python",
   "name": "python3"
  },
  "language_info": {
   "codemirror_mode": {
    "name": "ipython",
    "version": 3
   },
   "file_extension": ".py",
   "mimetype": "text/x-python",
   "name": "python",
   "nbconvert_exporter": "python",
   "pygments_lexer": "ipython3",
   "version": "3.11.5"
  },
  "orig_nbformat": 4
 },
 "nbformat": 4,
 "nbformat_minor": 2
}
