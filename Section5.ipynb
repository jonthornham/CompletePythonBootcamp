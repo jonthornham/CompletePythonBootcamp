{
 "cells": [
  {
   "cell_type": "code",
   "execution_count": 1,
   "metadata": {},
   "outputs": [
    {
     "name": "stdout",
     "output_type": "stream",
     "text": [
      "The number is greater than 80.\n"
     ]
    }
   ],
   "source": [
    "# if Statements\n",
    "\n",
    "# Python uses : and indents for code blocks. \n",
    "\n",
    "myNum = 81\n",
    "\n",
    "if myNum > 80:\n",
    "    print(\"The number is greater than 80.\")\n",
    "elif myNum < 80:\n",
    "    print(\"The number is less than 80\")\n",
    "else:\n",
    "    print(\"The number is 80.\")"
   ]
  },
  {
   "cell_type": "code",
   "execution_count": 6,
   "metadata": {},
   "outputs": [
    {
     "name": "stdout",
     "output_type": "stream",
     "text": [
      "1\n",
      "2\n",
      "3\n",
      "4\n",
      "5\n",
      "6\n",
      "7\n",
      "8\n",
      "Odd number: 1\n",
      "2\n",
      "Odd number: 3\n",
      "4\n",
      "Odd number: 5\n",
      "6\n",
      "Odd number: 7\n",
      "8\n",
      "H\n",
      "e\n",
      "l\n",
      "l\n",
      "o\n",
      " \n",
      "W\n",
      "o\n",
      "r\n",
      "l\n",
      "d\n",
      "Hello\n",
      "Hello\n",
      "Hello\n",
      "Hello\n",
      "Hello\n",
      "Hello\n",
      "Hello\n",
      "Hello\n",
      "1\n",
      "2\n",
      "3\n",
      "4\n",
      "k1\n",
      "1\n",
      "k2\n",
      "2\n",
      "k3\n",
      "3\n"
     ]
    }
   ],
   "source": [
    "# for Loops\n",
    "\n",
    "myList2 = [1, 2, 3, 4, 5, 6, 7, 8]\n",
    "myList3 = [(1,2), (3,4)]\n",
    "myString2 = \"Hello World\"\n",
    "myDict1 = {'k1':1, 'k2':2,'k3':3}\n",
    "\n",
    "# Single for\n",
    "for num in myList2:\n",
    "    print(num)\n",
    "\n",
    "# Nested if in for\n",
    "for num in myList2:\n",
    "    if num % 2 == 0:\n",
    "        print(num)\n",
    "    else:\n",
    "        print(f'Odd number: {num}')\n",
    "\n",
    "for letter in myString2:\n",
    "    print(letter)\n",
    "\n",
    "# You can also use an _ if you do not plan to use the item. Say we just wanted to do something 8 times\n",
    "for _ in myList2:\n",
    "    print('Hello')\n",
    "\n",
    "#myList3 is a list of tuples. You can unpack tuples like destructring in JavaScript\n",
    "for a,b in myList3:\n",
    "    print(a)\n",
    "    print(b)\n",
    "\n",
    "# if you iterate of a dictionary with for item in myDict1 you get the key. If you want the value you use \n",
    "# myDict.values() if you want both key and value you use myDict1.items() and you can unpack them\n",
    "for key, value in myDict1.items():\n",
    "    print(key)\n",
    "    print(value)"
   ]
  },
  {
   "cell_type": "code",
   "execution_count": null,
   "metadata": {},
   "outputs": [],
   "source": [
    "# while Loops check these out if needed."
   ]
  },
  {
   "cell_type": "code",
   "execution_count": null,
   "metadata": {},
   "outputs": [],
   "source": [
    "# Useful Operators\n",
    "\n",
    "# range allows you to generrate a list of numbers range(10) is liek a list wtih 1-10. Youc an step numbers etc.\n",
    "\n",
    "# Enumerate is cool. Breaks down soemthing like a string and gives you the letter and it place.\n",
    "\n",
    "# Zimp combines two lists into tuples. Very cool\n",
    "\n",
    "# in allows you to check and see if somethign is in a list.\n",
    "\n",
    "# min and max will give you the min and max values in a list."
   ]
  },
  {
   "cell_type": "code",
   "execution_count": null,
   "metadata": {},
   "outputs": [],
   "source": [
    "# async/await\n",
    "\n",
    "import asyncio\n",
    "\n",
    "async def async_function():\n",
    "    await asyncio.sleep(1)  # Simulate an asynchronous operation\n",
    "    return \"Hello, World!\"\n",
    "\n",
    "async def main():\n",
    "    result = await async_function()  # Call the async function and get the result\n",
    "    print(result)  # Output: Hello, World!\n",
    "\n",
    "# Run the event loop to execute the asynchronous tasks\n",
    "asyncio.run(main())"
   ]
  }
 ],
 "metadata": {
  "kernelspec": {
   "display_name": "Python 3",
   "language": "python",
   "name": "python3"
  },
  "language_info": {
   "codemirror_mode": {
    "name": "ipython",
    "version": 3
   },
   "file_extension": ".py",
   "mimetype": "text/x-python",
   "name": "python",
   "nbconvert_exporter": "python",
   "pygments_lexer": "ipython3",
   "version": "3.11.5"
  },
  "orig_nbformat": 4
 },
 "nbformat": 4,
 "nbformat_minor": 2
}
